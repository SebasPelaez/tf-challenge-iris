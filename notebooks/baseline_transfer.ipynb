{
 "cells": [
  {
   "cell_type": "code",
   "execution_count": 1,
   "metadata": {},
   "outputs": [],
   "source": [
    "import torch\n",
    "import pandas as pd\n",
    "import torchvision.transforms as transforms\n",
    "\n",
    "from iris.models.baseline import BaseLine\n",
    "from iris.trainer import main\n",
    "\n",
    "img_dir= \"../dataset/train2/\"\n",
    "background_dir = \"../dataset/backgrounds/\"\n",
    "img_metadata = pd.read_csv(\"../img_metadata_train_dev.csv\")\n",
    "train_img_metadata = img_metadata[img_metadata.iloc[:, 1] == 0][:100]\n",
    "test_img_metadata = img_metadata[img_metadata.iloc[:, 1] == 0][:100]"
   ]
  },
  {
   "cell_type": "code",
   "execution_count": 2,
   "metadata": {},
   "outputs": [
    {
     "ename": "TypeError",
     "evalue": "__init__() got an unexpected keyword argument 'out_features'",
     "output_type": "error",
     "traceback": [
      "\u001b[1;31m---------------------------------------------------------------------------\u001b[0m",
      "\u001b[1;31mTypeError\u001b[0m                                 Traceback (most recent call last)",
      "\u001b[1;32mC:\\Users\\SEBAST~1\\AppData\\Local\\Temp/ipykernel_13860/315292628.py\u001b[0m in \u001b[0;36m<module>\u001b[1;34m\u001b[0m\n\u001b[0;32m      9\u001b[0m \u001b[0mout_features\u001b[0m \u001b[1;33m=\u001b[0m \u001b[1;36m21\u001b[0m\u001b[1;33m\u001b[0m\u001b[1;33m\u001b[0m\u001b[0m\n\u001b[0;32m     10\u001b[0m model = BaseLine(\n\u001b[1;32m---> 11\u001b[1;33m     \u001b[0mmodel_name\u001b[0m\u001b[1;33m=\u001b[0m\u001b[1;34m\"resnet18\"\u001b[0m\u001b[1;33m,\u001b[0m \u001b[0muse_pretrained\u001b[0m\u001b[1;33m=\u001b[0m\u001b[1;32mTrue\u001b[0m\u001b[1;33m,\u001b[0m \u001b[0mout_features\u001b[0m\u001b[1;33m=\u001b[0m\u001b[0mout_features\u001b[0m\u001b[1;33m\u001b[0m\u001b[1;33m\u001b[0m\u001b[0m\n\u001b[0m\u001b[0;32m     12\u001b[0m ).to(device)\n\u001b[0;32m     13\u001b[0m \u001b[1;33m\u001b[0m\u001b[0m\n",
      "\u001b[1;31mTypeError\u001b[0m: __init__() got an unexpected keyword argument 'out_features'"
     ]
    }
   ],
   "source": [
    "train_trans = transforms.Compose([\n",
    "    transforms.Resize((224, 224)),\n",
    "    transforms.ToTensor(),\n",
    "    transforms.Normalize([0.485, 0.456, 0.406], [0.229, 0.224, 0.225])\n",
    "])\n",
    "\n",
    "# define model and move model to the right device\n",
    "device = \"cuda\" if torch.cuda.is_available() else \"cpu\"\n",
    "out_features = 21\n",
    "model = BaseLine(\n",
    "    model_name=\"resnet18\", use_pretrained=True, out_features=out_features\n",
    ").to(device)\n",
    "\n",
    "main(\n",
    "    img_dir= img_dir,\n",
    "    background_dir = background_dir,\n",
    "    img_metadata=(train_img_metadata, test_img_metadata),\n",
    "    train_trans=train_trans, \n",
    "    dev_trans=train_trans,\n",
    "    batch_size=12,\n",
    "    model=model,\n",
    "    out_features=out_features,\n",
    "    optimizer_params={\"lr\": 0.001, \"momentum\": 0.9},\n",
    "    lr_scheduler_params={\"gamma\": 0.1, \"step_size\": 500, \"verbose\":True},\n",
    "    num_epochs=5,\n",
    "    save_models=\"saved_models\",\n",
    ")\n"
   ]
  }
 ],
 "metadata": {
  "interpreter": {
   "hash": "d203a7fbe37afbb990fedfc21c321928443618f3d7b991e0237ff71906aa031f"
  },
  "kernelspec": {
   "display_name": "Python 3 (ipykernel)",
   "language": "python",
   "name": "python3"
  },
  "language_info": {
   "codemirror_mode": {
    "name": "ipython",
    "version": 3
   },
   "file_extension": ".py",
   "mimetype": "text/x-python",
   "name": "python",
   "nbconvert_exporter": "python",
   "pygments_lexer": "ipython3",
   "version": "3.7.11"
  }
 },
 "nbformat": 4,
 "nbformat_minor": 4
}
