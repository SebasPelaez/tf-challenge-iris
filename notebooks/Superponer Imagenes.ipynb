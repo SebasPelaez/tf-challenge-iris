{
 "cells": [
  {
   "cell_type": "code",
   "execution_count": 6,
   "metadata": {},
   "outputs": [],
   "source": [
    "import pandas as pd\n",
    "from pathlib import Path\n",
    "from PIL import Image\n",
    "import json"
   ]
  },
  {
   "cell_type": "code",
   "execution_count": 38,
   "metadata": {
    "scrolled": true,
    "tags": []
   },
   "outputs": [
    {
     "name": "stdout",
     "output_type": "stream",
     "text": [
      "0\n"
     ]
    }
   ],
   "source": [
    "dataset_dir = Path(\"../dataset/test/\") \n",
    "is_facade = 0\n",
    "for file_path in dataset_dir.glob('*.json'):\n",
    "    with open(str(file_path),'r') as f:\n",
    "        meta_data = json.load(f)\n",
    "    \n",
    "    label_name = (\n",
    "        meta_data[\"labels\"]\n",
    "        if isinstance(meta_data[\"labels\"], str)\n",
    "        else meta_data[\"labels\"][0]\n",
    "    )\n",
    "    \n",
    "    if label_name in [\"electrónica/cómputo\",\"deporte\",\"licorera\",\"animales\",\"bar\",\"zapatería\"]:\n",
    "        meta_data[\"is_facade\"] = \"Si\"\n",
    "        is_facade += 1\n",
    "        with open(str(file_path), 'w') as f:\n",
    "            json.dump(meta_data, f)\n",
    "        \n",
    "print(is_facade)"
   ]
  }
 ],
 "metadata": {
  "interpreter": {
   "hash": "d203a7fbe37afbb990fedfc21c321928443618f3d7b991e0237ff71906aa031f"
  },
  "kernelspec": {
   "display_name": "Python 3 (ipykernel)",
   "language": "python",
   "name": "python3"
  },
  "language_info": {
   "codemirror_mode": {
    "name": "ipython",
    "version": 3
   },
   "file_extension": ".py",
   "mimetype": "text/x-python",
   "name": "python",
   "nbconvert_exporter": "python",
   "pygments_lexer": "ipython3",
   "version": "3.7.11"
  }
 },
 "nbformat": 4,
 "nbformat_minor": 4
}
