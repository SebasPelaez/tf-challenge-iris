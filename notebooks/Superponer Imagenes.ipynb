{
 "cells": [
  {
   "cell_type": "code",
   "execution_count": null,
   "metadata": {},
   "outputs": [],
   "source": [
    "import pandas as pd\n",
    "from pathlib import Path\n",
    "from PIL import Image\n",
    "\n",
    "from torch.utils.data import DataLoader\n",
    "\n",
    "from iris.data import LandMarkDataset, id_labels,label_id"
   ]
  },
  {
   "cell_type": "code",
   "execution_count": null,
   "metadata": {},
   "outputs": [],
   "source": [
    "anotations = pd.read_csv(str(Path.cwd().parent / \"img_metadata_train_dev.csv\"))\n",
    "annotations_2 = anotations[anotations['labels']=='electrónica/cómputo']"
   ]
  },
  {
   "cell_type": "code",
   "execution_count": null,
   "metadata": {},
   "outputs": [],
   "source": [
    "land_mark_dataset_medellin = LandMarkDataset(str(Path.cwd().parent / \"dataset/train2\"),\n",
    "                                             Path.cwd().parent / \"dataset/backgrounds\",\n",
    "                                             annotations_2)\n",
    "train_dataloader = DataLoader(land_mark_dataset_medellin, batch_size=8, shuffle=True)"
   ]
  },
  {
   "cell_type": "code",
   "execution_count": null,
   "metadata": {},
   "outputs": [],
   "source": [
    "features, pred_labels = next(iter(train_dataloader))\n",
    "print(f\"Number of images and shape {features.shape} with its labels {len(id_labels)}\")"
   ]
  },
  {
   "cell_type": "code",
   "execution_count": null,
   "metadata": {},
   "outputs": [],
   "source": [
    "from torchvision import transforms\n",
    "import matplotlib.pyplot as plt\n",
    "\n",
    "\n",
    "plt.figure(figsize=(20, 20))\n",
    "columns = 4\n",
    "rows = int(len(features) / columns + 1)\n",
    "for i, image in enumerate(features):\n",
    "    image = transforms.ToPILImage()(image).convert(\"RGB\")\n",
    "    plt.subplot(rows, columns, i + 1)\n",
    "    plt.imshow(image)\n",
    "    plt.title(f\"label: {id_labels[pred_labels[i].item()]}\")"
   ]
  }
 ],
 "metadata": {
  "interpreter": {
   "hash": "d203a7fbe37afbb990fedfc21c321928443618f3d7b991e0237ff71906aa031f"
  },
  "kernelspec": {
   "display_name": "Python 3 (ipykernel)",
   "language": "python",
   "name": "python3"
  },
  "language_info": {
   "codemirror_mode": {
    "name": "ipython",
    "version": 3
   },
   "file_extension": ".py",
   "mimetype": "text/x-python",
   "name": "python",
   "nbconvert_exporter": "python",
   "pygments_lexer": "ipython3",
   "version": "3.7.11"
  }
 },
 "nbformat": 4,
 "nbformat_minor": 4
}
