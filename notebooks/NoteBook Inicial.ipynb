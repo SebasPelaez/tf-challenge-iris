{
 "cells": [
  {
   "cell_type": "code",
   "execution_count": null,
   "id": "7b8bdb3f-983f-47df-bf20-d6308bea9358",
   "metadata": {},
   "outputs": [],
   "source": [
    "#https://www.tensorflow.org/guide/data\n",
    "#https://www.tensorflow.org/tutorials/load_data/images#using_tfdata_for_finer_control"
   ]
  },
  {
   "cell_type": "markdown",
   "id": "2e014c59-c6e5-458c-b627-ac4e2f110c93",
   "metadata": {},
   "source": [
    "## Se cargan los paquetes"
   ]
  },
  {
   "cell_type": "code",
   "execution_count": null,
   "id": "2b468a37-2867-49d0-baf1-862601a1a31c",
   "metadata": {},
   "outputs": [],
   "source": [
    "import numpy as np\n",
    "import os\n",
    "import tensorflow as tf\n",
    "import json\n",
    "import matplotlib.pyplot as plt"
   ]
  },
  {
   "cell_type": "markdown",
   "id": "766af93f-34a5-4e3c-bad8-8784927ee527",
   "metadata": {},
   "source": [
    "## Breve preprocesamiento\n",
    "\n",
    "Se identifica si existe la misma cantida de archivos *.json* y archivos *.png*"
   ]
  },
  {
   "cell_type": "code",
   "execution_count": null,
   "id": "9748d1f5-8d51-4e42-b147-f9edc7b43467",
   "metadata": {},
   "outputs": [],
   "source": [
    "count_json = 0\n",
    "count_img = 0\n",
    "for i in os.listdir('data/train/'):\n",
    "    _,j = os.path.splitext(i)\n",
    "    if 'json' in i:\n",
    "        count_json += 1\n",
    "    else:\n",
    "        count_img += 1\n",
    "        \n",
    "count_json,count_img"
   ]
  },
  {
   "cell_type": "code",
   "execution_count": null,
   "id": "99f2dfc4-51e7-4ca4-bce1-cace83a5ddbd",
   "metadata": {},
   "outputs": [],
   "source": [
    "file_names = list(set('data/train/'+os.path.splitext(file)[0] for file in os.listdir('data/train/')))"
   ]
  },
  {
   "cell_type": "code",
   "execution_count": null,
   "id": "68c382b9-a65b-407a-bd66-4a18d25a9cfd",
   "metadata": {},
   "outputs": [],
   "source": [
    "no_image_list = []\n",
    "for file_name in file_names:\n",
    "    file_name_with_extension = file_name.split('/')[-1] + '.png'\n",
    "    if file_name_with_extension not in os.listdir('data/train/'):\n",
    "        no_image_list.append(file_name.split('/')[-1])\n",
    "        print('NO Existe',file_name)\n",
    "        \n",
    "len(no_image_list)"
   ]
  },
  {
   "cell_type": "markdown",
   "id": "8a65d0b2-be03-481d-b87c-36d76fe1aa25",
   "metadata": {},
   "source": [
    "## Se construye el dataset"
   ]
  },
  {
   "cell_type": "code",
   "execution_count": null,
   "id": "ab088bf7-fe75-409d-995a-87fa02dd44e0",
   "metadata": {},
   "outputs": [],
   "source": [
    "def process_path(image_path,label):\n",
    "    # Load the raw data from the file as a string\n",
    "    img = tf.io.read_file(image_path)\n",
    "    img = tf.io.decode_jpeg(img, channels=3)\n",
    "    return img, label"
   ]
  },
  {
   "cell_type": "code",
   "execution_count": null,
   "id": "c7b0f011-8544-4116-bdab-790a4cfd0958",
   "metadata": {},
   "outputs": [],
   "source": [
    "def configure_for_performance(ds,batch_size):\n",
    "    ds = ds.cache()\n",
    "    ds = ds.shuffle(buffer_size=1000)\n",
    "    ds = ds.batch(batch_size)\n",
    "    ds = ds.prefetch(buffer_size=tf.data.AUTOTUNE)\n",
    "    \n",
    "    return ds"
   ]
  },
  {
   "cell_type": "code",
   "execution_count": null,
   "id": "ac0f4f19-ad11-4fba-955b-258a95265b4c",
   "metadata": {},
   "outputs": [],
   "source": [
    "images = []\n",
    "labels = []\n",
    "\n",
    "for file_name in file_names:\n",
    "    name = file_name.split('/')[-1].split('/')[-1]\n",
    "    if name not in no_image_list:\n",
    "        with open(file_name+'.json') as f:\n",
    "            label_json = json.load(f)\n",
    "        label = label_json['labels']\n",
    "\n",
    "        images.append(file_name+'.png')\n",
    "        labels.append(label[0])"
   ]
  },
  {
   "cell_type": "code",
   "execution_count": null,
   "id": "09fdbc96-a13c-40ff-a828-b3d8e7468400",
   "metadata": {
    "scrolled": true,
    "tags": []
   },
   "outputs": [],
   "source": [
    "ds_train = tf.data.Dataset.from_tensor_slices((images,labels))\n",
    "ds_train = ds_train.map(process_path, num_parallel_calls=tf.data.AUTOTUNE)\n",
    "ds_train = configure_for_performance(ds_train,batch_size=32)"
   ]
  },
  {
   "cell_type": "markdown",
   "id": "8c53e99e-7535-4380-9d51-b22a4bb82719",
   "metadata": {},
   "source": [
    "## Se muestran las imágenes"
   ]
  },
  {
   "cell_type": "code",
   "execution_count": null,
   "id": "ab11d304-9a6d-493d-9f91-de970cb59716",
   "metadata": {},
   "outputs": [],
   "source": [
    "image_batch, label_batch = next(iter(ds_train))\n",
    "\n",
    "plt.figure(figsize=(10, 10))\n",
    "for i in range(9):\n",
    "    ax = plt.subplot(3, 3, i + 1)\n",
    "    plt.imshow(image_batch[i].numpy().astype(\"uint8\"))\n",
    "    label = label_batch[i]\n",
    "    plt.title(label_batch[i].numpy().decode('UTF-8'))\n",
    "    plt.axis(\"off\")"
   ]
  }
 ],
 "metadata": {
  "kernelspec": {
   "display_name": "Python 3 (ipykernel)",
   "language": "python",
   "name": "python3"
  },
  "language_info": {
   "codemirror_mode": {
    "name": "ipython",
    "version": 3
   },
   "file_extension": ".py",
   "mimetype": "text/x-python",
   "name": "python",
   "nbconvert_exporter": "python",
   "pygments_lexer": "ipython3",
   "version": "3.7.11"
  }
 },
 "nbformat": 4,
 "nbformat_minor": 5
}
