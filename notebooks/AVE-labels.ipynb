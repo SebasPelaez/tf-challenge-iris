{
 "cells": [
  {
   "cell_type": "code",
   "execution_count": 3,
   "metadata": {},
   "outputs": [],
   "source": [
    "import pandas as pd\n",
    "import json\n",
    "\n",
    "img_metadata = pd.read_csv(\"../img_metadata_train_dev.csv\")"
   ]
  },
  {
   "cell_type": "code",
   "execution_count": null,
   "metadata": {},
   "outputs": [],
   "source": [
    "labels = []\n",
    "for idx, img_medata in img_metadata.iterrows():\n",
    "    with open(\"../dataset/train/\" + img_medata[0] + \".json\", \"r\") as file:\n",
    "        data = json.load(file)\n",
    "        if data[\"labels\"][0] not in labels:\n",
    "            labels.append(data[\"labels\"][0])"
   ]
  },
  {
   "cell_type": "code",
   "execution_count": 10,
   "metadata": {},
   "outputs": [
    {
     "data": {
      "text/plain": [
       "['tienda',\n",
       " 'parqueadero',\n",
       " 'belleza/barbería/peluquería',\n",
       " 'electrónica/cómputo',\n",
       " 'café/restaurante',\n",
       " 'electrodomésticos',\n",
       " 'talleres carros/motos',\n",
       " 'zapatería',\n",
       " 'muebles/tapicería',\n",
       " 'ferretería',\n",
       " 'carnicería/fruver',\n",
       " 'puesto móvil/toldito',\n",
       " 'farmacia',\n",
       " 'supermercado',\n",
       " 'ropa',\n",
       " 'deporte',\n",
       " 'licorera',\n",
       " 'hotel',\n",
       " 'animales',\n",
       " 'bar',\n",
       " 'f']"
      ]
     },
     "execution_count": 10,
     "metadata": {},
     "output_type": "execute_result"
    }
   ],
   "source": [
    "labels"
   ]
  }
 ],
 "metadata": {
  "interpreter": {
   "hash": "40d3a090f54c6569ab1632332b64b2c03c39dcf918b08424e98f38b5ae0af88f"
  },
  "kernelspec": {
   "display_name": "Python 3.8.8 64-bit ('base': conda)",
   "name": "python3"
  },
  "language_info": {
   "codemirror_mode": {
    "name": "ipython",
    "version": 3
   },
   "file_extension": ".py",
   "mimetype": "text/x-python",
   "name": "python",
   "nbconvert_exporter": "python",
   "pygments_lexer": "ipython3",
   "version": "3.8.10"
  },
  "orig_nbformat": 4
 },
 "nbformat": 4,
 "nbformat_minor": 2
}
