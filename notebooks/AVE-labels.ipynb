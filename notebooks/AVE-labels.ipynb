{
 "cells": [
  {
   "cell_type": "code",
   "execution_count": 1,
   "metadata": {},
   "outputs": [],
   "source": [
    "import pandas as pd\n",
    "import json\n",
    "\n",
    "img_metadata = pd.read_csv(\"../img_metadata_train_dev.csv\")"
   ]
  },
  {
   "cell_type": "code",
   "execution_count": 2,
   "metadata": {},
   "outputs": [],
   "source": [
    "labels = []\n",
    "for idx, img_medata in img_metadata.iterrows():\n",
    "    with open(\"../dataset/train2/\" + img_medata[0] + \".json\", \"r\") as file:\n",
    "        data = json.load(file)\n",
    "        if data[\"labels\"][0] not in labels:\n",
    "            labels.append(data[\"labels\"][0])"
   ]
  },
  {
   "cell_type": "code",
   "execution_count": 3,
   "metadata": {},
   "outputs": [
    {
     "data": {
      "text/plain": [
       "['puesto móvil/toldito',\n",
       " 'café/restaurante',\n",
       " 'tienda',\n",
       " 'ferretería',\n",
       " 'parqueadero',\n",
       " 'carnicería/fruver',\n",
       " 'muebles/tapicería',\n",
       " 'bar',\n",
       " 'electrónica/cómputo',\n",
       " 'supermercado',\n",
       " 'talleres carros/motos',\n",
       " 'farmacia',\n",
       " 'hotel',\n",
       " 'f',\n",
       " 'ropa',\n",
       " 'zapatería',\n",
       " 'electrodomésticos',\n",
       " 'belleza/barbería/peluquería',\n",
       " 'deporte',\n",
       " 'animales',\n",
       " 'licorera']"
      ]
     },
     "execution_count": 3,
     "metadata": {},
     "output_type": "execute_result"
    }
   ],
   "source": [
    "labels"
   ]
  }
 ],
 "metadata": {
  "interpreter": {
   "hash": "40d3a090f54c6569ab1632332b64b2c03c39dcf918b08424e98f38b5ae0af88f"
  },
  "kernelspec": {
   "display_name": "Python 3 (ipykernel)",
   "language": "python",
   "name": "python3"
  },
  "language_info": {
   "codemirror_mode": {
    "name": "ipython",
    "version": 3
   },
   "file_extension": ".py",
   "mimetype": "text/x-python",
   "name": "python",
   "nbconvert_exporter": "python",
   "pygments_lexer": "ipython3",
   "version": "3.7.11"
  }
 },
 "nbformat": 4,
 "nbformat_minor": 4
}
